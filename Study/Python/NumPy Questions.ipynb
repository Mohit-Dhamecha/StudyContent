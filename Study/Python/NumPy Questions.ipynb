{
 "cells": [
  {
   "cell_type": "markdown",
   "metadata": {},
   "source": [
    "Q. Index out corner elements of a 2D array. Do the same for a 3D array."
   ]
  },
  {
   "cell_type": "markdown",
   "metadata": {},
   "source": [
    "Q. Perform rolling sum on an array\n",
    "Egs - If a = [1,2,3,4,5,6,7,8] and window w = 3, output = [6,9,12,15,18,21]"
   ]
  },
  {
   "cell_type": "markdown",
   "metadata": {},
   "source": [
    "Q. Find the diagonal sums for a nxn 2D array (both diagonals)"
   ]
  },
  {
   "cell_type": "markdown",
   "metadata": {},
   "source": [
    "Q. Find the determinant of a 3D matrix without using any ready-made determinant/cofactor methods that NumPy provides (that would constitute cheating)"
   ]
  },
  {
   "cell_type": "markdown",
   "metadata": {},
   "source": [
    "Q. Given an array a and a window size w, find all contiguous subsets of size w within a. Egs - If a = [1,2,3,4,5] and w = 3, output = [[1,2,3],[2,3,4],[3,4,5]]"
   ]
  },
  {
   "cell_type": "markdown",
   "metadata": {},
   "source": [
    "Q. Check if any given 2D matrix is a magic square"
   ]
  },
  {
   "cell_type": "markdown",
   "metadata": {},
   "source": [
    "Q. Given a mtrix, sort all rows based on the values of the nth column"
   ]
  },
  {
   "cell_type": "markdown",
   "metadata": {},
   "source": [
    "Q. Check if a given matrix is orthogonal"
   ]
  }
 ],
 "metadata": {
  "kernelspec": {
   "display_name": "Python [Root]",
   "language": "python",
   "name": "Python [Root]"
  },
  "language_info": {
   "codemirror_mode": {
    "name": "ipython",
    "version": 2
   },
   "file_extension": ".py",
   "mimetype": "text/x-python",
   "name": "python",
   "nbconvert_exporter": "python",
   "pygments_lexer": "ipython2",
   "version": "2.7.12"
  }
 },
 "nbformat": 4,
 "nbformat_minor": 0
}
