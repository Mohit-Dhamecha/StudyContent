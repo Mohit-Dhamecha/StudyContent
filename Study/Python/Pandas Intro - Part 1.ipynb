{
 "cells": [
  {
   "cell_type": "markdown",
   "metadata": {},
   "source": [
    "## Pandas - Introduction Part 1"
   ]
  },
  {
   "cell_type": "code",
   "execution_count": 1,
   "metadata": {},
   "outputs": [],
   "source": [
    "import pandas as pd\n",
    "import numpy as np"
   ]
  },
  {
   "cell_type": "markdown",
   "metadata": {},
   "source": [
    "#### Data Structures - Series"
   ]
  },
  {
   "cell_type": "code",
   "execution_count": 24,
   "metadata": {
    "scrolled": false
   },
   "outputs": [
    {
     "name": "stdout",
     "output_type": "stream",
     "text": [
      "0    a\n",
      "1    b\n",
      "2    c\n",
      "3    d\n",
      "dtype: object\n"
     ]
    }
   ],
   "source": [
    "\"\"\"\n",
    "Series is a one-dimensional array like structure with homogeneous data\n",
    "\"\"\"\n",
    "data = np.array(['a','b','c','d'])\n",
    "s1 = pd.Series(data)\n",
    "print s1"
   ]
  },
  {
   "cell_type": "code",
   "execution_count": 25,
   "metadata": {},
   "outputs": [
    {
     "name": "stdout",
     "output_type": "stream",
     "text": [
      "[0 1 2 3]\n",
      "101    a\n",
      "102    b\n",
      "103    c\n",
      "104    d\n",
      "dtype: object\n"
     ]
    }
   ],
   "source": [
    "\"\"\"\n",
    "Indexes are assigned to each element in a Series.\n",
    "By default the indexes are assigned incrementally starting 0\n",
    "\"\"\"\n",
    "print s1.index.values\n",
    "# We can also assign different set of index values\n",
    "s1 = pd.Series(data, index = [101,102,103,104])\n",
    "print s1"
   ]
  },
  {
   "cell_type": "code",
   "execution_count": 27,
   "metadata": {},
   "outputs": [
    {
     "name": "stdout",
     "output_type": "stream",
     "text": [
      "a    0.0\n",
      "b    1.0\n",
      "c    2.0\n",
      "dtype: float64\n",
      "0    5\n",
      "1    5\n",
      "2    5\n",
      "3    5\n",
      "dtype: int64\n"
     ]
    }
   ],
   "source": [
    "\"\"\"\n",
    "We can also create series from a dictionary data\n",
    "Here the keys act as indices for the elements in the series\n",
    "\"\"\"\n",
    "data = {'a' : 0., 'b' : 1., 'c' : 2.}\n",
    "s = pd.Series(data)\n",
    "print s\n",
    "\n",
    "\"\"\"\n",
    "We can also make a series using just the scalars\n",
    "\"\"\"\n",
    "s = pd.Series(5, index=[0, 1, 2, 3])\n",
    "print s"
   ]
  },
  {
   "cell_type": "code",
   "execution_count": 39,
   "metadata": {},
   "outputs": [
    {
     "name": "stdout",
     "output_type": "stream",
     "text": [
      "a    100\n",
      "b    101\n",
      "c    102\n",
      "d    103\n",
      "e    104\n",
      "f    105\n",
      "dtype: int32\n",
      "100\n",
      "a    100\n",
      "b    101\n",
      "c    102\n",
      "dtype: int32\n",
      "d    103\n",
      "e    104\n",
      "f    105\n",
      "dtype: int32\n",
      "100\n",
      "a    100\n",
      "b    101\n",
      "c    102\n",
      "dtype: int32\n"
     ]
    }
   ],
   "source": [
    "\"\"\"\n",
    "Retrieve data from a series\n",
    "\"\"\"\n",
    "#Python like indexing works in retrieveing elements\n",
    "s = pd.Series(np.arange(100,106), index = ['a','b','c','d','e','f'])\n",
    "print s\n",
    "#Get the first element\n",
    "print s[0]\n",
    "#Get first 3 elements\n",
    "print s[0:3]\n",
    "#Get the last 3 elements\n",
    "print s[-3:]\n",
    "#Using the labels/index we gave\n",
    "print s['a']\n",
    "print s[['a','b','c']]"
   ]
  },
  {
   "cell_type": "markdown",
   "metadata": {},
   "source": [
    "#### Data Structures - Dataframes"
   ]
  },
  {
   "cell_type": "code",
   "execution_count": 45,
   "metadata": {
    "scrolled": true
   },
   "outputs": [
    {
     "name": "stdout",
     "output_type": "stream",
     "text": [
      "     Name   Age\n",
      "0    Alex  10.0\n",
      "1     Bob  12.0\n",
      "2  Clarke  13.0\n",
      "      area    capital       country  population\n",
      "BR   8.516   Brasilia        Brazil      200.40\n",
      "RU  17.100     Moscow        Russia      143.50\n",
      "IN   3.286  New Dehli         India     1252.00\n",
      "CH   9.597    Beijing         China     1357.00\n",
      "SA   1.221   Pretoria  South Africa       52.98\n",
      "   a   b     c\n",
      "0  1   2   NaN\n",
      "1  5  10  20.0\n",
      "   one  two\n",
      "a  1.0    1\n",
      "b  2.0    2\n",
      "c  3.0    3\n",
      "d  NaN    4\n"
     ]
    }
   ],
   "source": [
    "\"\"\"\n",
    "DataFrame is a two-dimensional array with heterogeneous data. The most commonaly used data structure in pandas\n",
    "A Dataframe can also be thought of as a container of multiple series\n",
    "There are multiple ways in which we can create dataframes.\n",
    "\"\"\"\n",
    "#Using List of lists\n",
    "data = [['Alex',10],['Bob',12],['Clarke',13]]\n",
    "df = pd.DataFrame(data,columns=['Name','Age'],dtype=float)\n",
    "print df\n",
    "\n",
    "#Using Dictionary of lists\n",
    "#Note: length og lists must be same\n",
    "dict_data = {\"country\": [\"Brazil\", \"Russia\", \"India\", \"China\", \"South Africa\"],\n",
    "       \"capital\": [\"Brasilia\", \"Moscow\", \"New Dehli\", \"Beijing\", \"Pretoria\"],\n",
    "       \"area\": [8.516, 17.10, 3.286, 9.597, 1.221],\n",
    "       \"population\": [200.4, 143.5, 1252, 1357, 52.98] }\n",
    "brics = pd.DataFrame(dict_data, index=[\"BR\", \"RU\", \"IN\", \"CH\", \"SA\"])\n",
    "print brics\n",
    "\n",
    "#Using Lists of dictionaries\n",
    "#Note: how the lists can be of different lengths here.\n",
    "data = [{'a': 1, 'b': 2},{'a': 5, 'b': 10, 'c': 20}]\n",
    "df = pd.DataFrame(data)\n",
    "print df\n",
    "\n",
    "#We can also use a dictionary of series to create a dataframe\n",
    "d = {'one' : pd.Series([1, 2, 3], index=['a', 'b', 'c']),\n",
    "      'two' : pd.Series([1, 2, 3, 4], index=['a', 'b', 'c', 'd'])}\n",
    "\n",
    "df = pd.DataFrame(d)\n",
    "print df"
   ]
  },
  {
   "cell_type": "code",
   "execution_count": 50,
   "metadata": {},
   "outputs": [
    {
     "name": "stdout",
     "output_type": "stream",
     "text": [
      "BR          Brazil\n",
      "RU          Russia\n",
      "IN           India\n",
      "CH           China\n",
      "SA    South Africa\n",
      "Name: country, dtype: object\n",
      "         country    area\n",
      "BR        Brazil   8.516\n",
      "RU        Russia  17.100\n",
      "IN         India   3.286\n",
      "CH         China   9.597\n",
      "SA  South Africa   1.221\n"
     ]
    }
   ],
   "source": [
    "\"\"\"\n",
    "Column selection in a dataframe\n",
    "\"\"\"\n",
    "#Using the column label\n",
    "\n",
    "print brics ['country']\n",
    "print brics [['country','area']]"
   ]
  },
  {
   "cell_type": "code",
   "execution_count": 53,
   "metadata": {},
   "outputs": [
    {
     "name": "stdout",
     "output_type": "stream",
     "text": [
      "   one  two\n",
      "a  1.0    1\n",
      "b  2.0    2\n",
      "c  3.0    3\n",
      "d  NaN    4\n",
      "   one  two  three\n",
      "a  1.0    1   10.0\n",
      "b  2.0    2   20.0\n",
      "c  3.0    3   30.0\n",
      "d  NaN    4    NaN\n",
      "   one  two  three  four\n",
      "a  1.0    1   10.0  11.0\n",
      "b  2.0    2   20.0  22.0\n",
      "c  3.0    3   30.0  33.0\n",
      "d  NaN    4    NaN   NaN\n",
      "   two  three  four\n",
      "a    1   10.0  11.0\n",
      "b    2   20.0  22.0\n",
      "c    3   30.0  33.0\n",
      "d    4    NaN   NaN\n",
      "   three  four\n",
      "a   10.0  11.0\n",
      "b   20.0  22.0\n",
      "c   30.0  33.0\n",
      "d    NaN   NaN\n"
     ]
    }
   ],
   "source": [
    "\"\"\"\n",
    "Column addition and deletion in a dataframe\n",
    "\"\"\"\n",
    "d = {'one' : pd.Series([1, 2, 3], index=['a', 'b', 'c']),\n",
    "      'two' : pd.Series([1, 2, 3, 4], index=['a', 'b', 'c', 'd'])}\n",
    "df = pd.DataFrame(d)\n",
    "print df\n",
    "\n",
    "# Adding a new column to an existing DataFrame object with column label by passing new series\n",
    "df['three']=pd.Series([10,20,30],index=['a','b','c'])\n",
    "print df\n",
    "\n",
    "df['four']=df['one']+df['three']\n",
    "print df\n",
    "\n",
    "# Deleting columns in an existing dataframe with column label\n",
    "# using del function\n",
    "del df['one']\n",
    "print df\n",
    "\n",
    "# using pop function\n",
    "df.pop('two')\n",
    "print df"
   ]
  },
  {
   "cell_type": "code",
   "execution_count": 56,
   "metadata": {},
   "outputs": [
    {
     "name": "stdout",
     "output_type": "stream",
     "text": [
      "one    2.0\n",
      "two    2.0\n",
      "Name: b, dtype: float64\n",
      "one    3.0\n",
      "two    3.0\n",
      "Name: c, dtype: float64\n",
      "   one  two\n",
      "c  3.0    3\n",
      "d  NaN    4\n"
     ]
    }
   ],
   "source": [
    "\"\"\"\n",
    "Rows can be selected by passing row labels\n",
    "\"\"\"\n",
    "d = {'one' : pd.Series([1, 2, 3], index=['a', 'b', 'c']), \n",
    "     'two' : pd.Series([1, 2, 3, 4], index=['a', 'b', 'c', 'd'])}\n",
    "\n",
    "df = pd.DataFrame(d)\n",
    "print df.loc['b']\n",
    "#Using integer location\n",
    "print df.iloc[2]\n",
    "#Multiple rows can be selected using ‘ : ’ operator.\n",
    "print df[2:4]\n"
   ]
  },
  {
   "cell_type": "code",
   "execution_count": 60,
   "metadata": {},
   "outputs": [
    {
     "name": "stdout",
     "output_type": "stream",
     "text": [
      "   a  b\n",
      "0  1  2\n",
      "1  3  4\n",
      "0  5  6\n",
      "1  7  8\n",
      "   a  b\n",
      "1  3  4\n",
      "1  7  8\n"
     ]
    }
   ],
   "source": [
    "\"\"\"\n",
    "Addition and deletion of rows in a dataframe\n",
    "\"\"\"\n",
    "df = pd.DataFrame([[1, 2], [3, 4]], columns = ['a','b'])\n",
    "df2 = pd.DataFrame([[5, 6], [7, 8]], columns = ['a','b'])\n",
    "\n",
    "#Note the repeating indexes indexes\n",
    "df = df.append(df2)\n",
    "print df\n",
    "\n",
    "# Drop rows with label 0\n",
    "df = df.drop(0)\n",
    "print df"
   ]
  },
  {
   "cell_type": "code",
   "execution_count": 16,
   "metadata": {
    "collapsed": true
   },
   "outputs": [
    {
     "name": "stdout",
     "output_type": "stream",
     "text": [
      "   Unnamed: 0 score_phrase                                              title  \\\n",
      "0           0      Amazing                            LittleBigPlanet PS Vita   \n",
      "1           1      Amazing  LittleBigPlanet PS Vita -- Marvel Super Hero E...   \n",
      "2           2        Great                               Splice: Tree of Life   \n",
      "3           3        Great                                             NHL 13   \n",
      "4           4        Great                                             NHL 13   \n",
      "\n",
      "                                                 url          platform  score  \\\n",
      "0             /games/littlebigplanet-vita/vita-98907  PlayStation Vita    9.0   \n",
      "1  /games/littlebigplanet-ps-vita-marvel-super-he...  PlayStation Vita    9.0   \n",
      "2                          /games/splice/ipad-141070              iPad    8.5   \n",
      "3                      /games/nhl-13/xbox-360-128182          Xbox 360    8.5   \n",
      "4                           /games/nhl-13/ps3-128181     PlayStation 3    8.5   \n",
      "\n",
      "        genre editors_choice  release_year  release_month  release_day  \n",
      "0  Platformer              Y          2012              9           12  \n",
      "1  Platformer              Y          2012              9           12  \n",
      "2      Puzzle              N          2012              9           12  \n",
      "3      Sports              N          2012              9           11  \n",
      "4      Sports              N          2012              9           11  \n"
     ]
    }
   ],
   "source": [
    "\"\"\"\n",
    "Another way to create a DataFrame is by importing a csv file using Pandas\n",
    "\"\"\"\n",
    "ign = pd.read_csv(\"ign.csv\")\n",
    "print ign.head()"
   ]
  },
  {
   "cell_type": "markdown",
   "metadata": {},
   "source": [
    "### Exploring basics"
   ]
  },
  {
   "cell_type": "code",
   "execution_count": 67,
   "metadata": {},
   "outputs": [
    {
     "name": "stdout",
     "output_type": "stream",
     "text": [
      "   Age   Name  Rating\n",
      "0   25    Tom    4.23\n",
      "1   26  James    3.24\n",
      "2   25  Ricky    3.98\n",
      "3   23    Vin    2.56\n",
      "4   30  Steve    3.20\n",
      "5   29  Smith    4.60\n",
      "6   23   Jack    3.80\n",
      "Transpose:\n",
      "           0      1      2     3      4      5     6\n",
      "Age       25     26     25    23     30     29    23\n",
      "Name     Tom  James  Ricky   Vin  Steve  Smith  Jack\n",
      "Rating  4.23   3.24   3.98  2.56    3.2    4.6   3.8\n",
      "Axis:\n",
      "[RangeIndex(start=0, stop=7, step=1), Index([u'Age', u'Name', u'Rating'], dtype='object')]\n",
      "Datatypes:\n",
      "Age         int64\n",
      "Name       object\n",
      "Rating    float64\n",
      "dtype: object\n",
      "Shape:\n",
      "(7, 3)\n",
      "Total num of elements:\n",
      "21\n",
      "[[25L 'Tom' 4.23]\n",
      " [26L 'James' 3.24]\n",
      " [25L 'Ricky' 3.98]\n",
      " [23L 'Vin' 2.56]\n",
      " [30L 'Steve' 3.2]\n",
      " [29L 'Smith' 4.6]\n",
      " [23L 'Jack' 3.8]]\n"
     ]
    }
   ],
   "source": [
    "#Create a Dictionary of series\n",
    "d = {'Name':pd.Series(['Tom','James','Ricky','Vin','Steve','Smith','Jack']),\n",
    "   'Age':pd.Series([25,26,25,23,30,29,23]),\n",
    "   'Rating':pd.Series([4.23,3.24,3.98,2.56,3.20,4.6,3.8])}\n",
    "\n",
    "#Create a DataFrame\n",
    "df = pd.DataFrame(d)\n",
    "print df\n",
    "\n",
    "#Create a transpose of the dataframe\n",
    "print \"Transpose:\"\n",
    "print df.T\n",
    "\n",
    "#print the axes of the df\n",
    "print \"Axis:\"\n",
    "print df.axes\n",
    "\n",
    "#The datatypes of each column:\n",
    "print \"Datatypes:\"\n",
    "print df.dtypes\n",
    "\n",
    "#Get the shape of the dataframe\n",
    "print \"Shape:\"\n",
    "print df.shape\n",
    "\n",
    "#Get the size of the dataframe\n",
    "print \"Total num of elements:\"\n",
    "print df.size\n",
    "\n",
    "#Get a dump of the dataframe in the form of a list of lists\n",
    "print df.values"
   ]
  },
  {
   "cell_type": "code",
   "execution_count": 72,
   "metadata": {},
   "outputs": [
    {
     "name": "stdout",
     "output_type": "stream",
     "text": [
      "   Age   Name  Rating\n",
      "0   25    Tom    4.23\n",
      "1   26  James    3.24\n",
      "   Age   Name  Rating\n",
      "5   29  Smith     4.6\n",
      "6   23   Jack     3.8\n"
     ]
    }
   ],
   "source": [
    "\"\"\"\n",
    "Head and tail functions\n",
    "\"\"\"\n",
    "#View the first and last n elements of the dataframe\n",
    "print df.head(2)\n",
    "print df.tail(2)"
   ]
  },
  {
   "cell_type": "code",
   "execution_count": 79,
   "metadata": {},
   "outputs": [
    {
     "name": "stdout",
     "output_type": "stream",
     "text": [
      "Age                                  181\n",
      "Name      TomJamesRickyVinSteveSmithJack\n",
      "Rating                             25.61\n",
      "dtype: object\n",
      "0    29.23\n",
      "1    29.24\n",
      "2    28.98\n",
      "3    25.56\n",
      "4    33.20\n",
      "5    33.60\n",
      "6    26.80\n",
      "dtype: float64\n",
      "Age       25.857143\n",
      "Rating     3.658571\n",
      "dtype: float64\n",
      "             Age    Rating\n",
      "count   7.000000  7.000000\n",
      "mean   25.857143  3.658571\n",
      "std     2.734262  0.698628\n",
      "min    23.000000  2.560000\n",
      "25%    24.000000  3.220000\n",
      "50%    25.000000  3.800000\n",
      "75%    27.500000  4.105000\n",
      "max    30.000000  4.600000\n",
      "         Name\n",
      "count       7\n",
      "unique      7\n",
      "top     Ricky\n",
      "freq        1\n"
     ]
    }
   ],
   "source": [
    "\"\"\"\n",
    "Basic functions in a dataframe\n",
    "\"\"\"\n",
    "#Get a column wise sum\n",
    "print df.sum()\n",
    "#Get a row wise sum\n",
    "print df.sum(axis=1)\n",
    "\n",
    "#Get a column wise mean of all the rows\n",
    "print df.mean()\n",
    "\n",
    "#Get a summary of all the numerical columns in a dataframe. just like summary(df) in R\n",
    "print df.describe()\n",
    "\n",
    "#Get a summary of columns by their datatypes\n",
    "print df.describe(include=['O'])"
   ]
  },
  {
   "cell_type": "code",
   "execution_count": 82,
   "metadata": {},
   "outputs": [
    {
     "name": "stdout",
     "output_type": "stream",
     "text": [
      "       col1      col2      col3\n",
      "0 -0.595097  0.470524  0.279954\n",
      "1 -0.776857  0.666584 -1.038153\n",
      "2  1.262017 -1.212780  1.461746\n",
      "3 -0.821280 -1.319773 -0.285814\n",
      "4 -1.167121 -0.849286  2.104408\n",
      "5  0.492654  1.301608 -2.584708\n",
      "After renaming the rows and columns:\n",
      "              c1        c2      col3\n",
      "apple  -0.595097  0.470524  0.279954\n",
      "banana -0.776857  0.666584 -1.038153\n",
      "durian  1.262017 -1.212780  1.461746\n",
      "3      -0.821280 -1.319773 -0.285814\n",
      "4      -1.167121 -0.849286  2.104408\n",
      "5       0.492654  1.301608 -2.584708\n"
     ]
    }
   ],
   "source": [
    "#Renaming columns and indexes\n",
    "df1 = pd.DataFrame(np.random.randn(6,3),columns=['col1','col2','col3'])\n",
    "print df1\n",
    "\n",
    "print (\"After renaming the rows and columns:\")\n",
    "print df1.rename(columns={'col1' : 'c1', 'col2' : 'c2'},index = {0 : 'apple', 1 : 'banana', 2 : 'durian'})"
   ]
  },
  {
   "cell_type": "code",
   "execution_count": 91,
   "metadata": {},
   "outputs": [
    {
     "name": "stdout",
     "output_type": "stream",
     "text": [
      "col1\n",
      "col2\n",
      "col3\n",
      "\n",
      "Iterating over columns\n",
      "col1 \n",
      "0   -0.826366\n",
      "1    1.471914\n",
      "2   -0.729959\n",
      "3   -1.010754\n",
      "Name: col1, dtype: float64\n",
      "col2 \n",
      "0   -0.173026\n",
      "1    0.317008\n",
      "2    1.141356\n",
      "3   -0.547795\n",
      "Name: col2, dtype: float64\n",
      "col3 \n",
      "0   -0.371337\n",
      "1   -0.087639\n",
      "2   -0.151336\n",
      "3    0.074584\n",
      "Name: col3, dtype: float64\n",
      "\n",
      "Iterating over rows\n",
      "0 \n",
      "col1   -0.826366\n",
      "col2   -0.173026\n",
      "col3   -0.371337\n",
      "Name: 0, dtype: float64\n",
      "1 \n",
      "col1    1.471914\n",
      "col2    0.317008\n",
      "col3   -0.087639\n",
      "Name: 1, dtype: float64\n",
      "2 \n",
      "col1   -0.729959\n",
      "col2    1.141356\n",
      "col3   -0.151336\n",
      "Name: 2, dtype: float64\n",
      "3 \n",
      "col1   -1.010754\n",
      "col2   -0.547795\n",
      "col3    0.074584\n",
      "Name: 3, dtype: float64\n",
      "   col1      col2      col3\n",
      "0  10.0 -0.173026 -0.371337\n",
      "1  10.0  0.317008 -0.087639\n",
      "2  10.0  1.141356 -0.151336\n",
      "3  10.0 -0.547795  0.074584\n"
     ]
    }
   ],
   "source": [
    "\"\"\"\n",
    "Iterating through the dataframe using the simple python loops\n",
    "\"\"\"\n",
    "df = pd.DataFrame(np.random.randn(4,3),columns=['col1','col2','col3'])\n",
    "\n",
    "#Itering through columns\n",
    "for col in df:\n",
    "    print col\n",
    "\n",
    "print \"\\n\",\"Iterating over columns\"\n",
    "#Iterating over columns, column values(Series) as (key,value) pairs\n",
    "for key,value in df.iteritems():\n",
    "    print key,\"\\n\",value\n",
    "\n",
    "print \"\\n\",\"Iterating over rows\"\n",
    "#Iterting over rows, row values(Series) as (key,value) pairs\n",
    "for row_index,row in df.iterrows():\n",
    "    print row_index,\"\\n\",row"
   ]
  },
  {
   "cell_type": "code",
   "execution_count": 97,
   "metadata": {},
   "outputs": [
    {
     "name": "stdout",
     "output_type": "stream",
     "text": [
      "\n",
      "By Row labels\n",
      "       col2      col1\n",
      "9  0.650655 -0.945977\n",
      "8 -3.015635  0.993880\n",
      "7  0.711635 -0.627116\n",
      "6 -0.892861  0.939077\n",
      "5  0.015696 -0.115436\n",
      "4 -1.420958 -0.916836\n",
      "3  0.534063 -0.059460\n",
      "2  0.390587  0.124343\n",
      "1  0.089525 -0.390213\n",
      "0  0.003064  0.415790\n",
      "\n",
      "By Columns labels\n",
      "       col1      col2\n",
      "1 -0.390213  0.089525\n",
      "4 -0.916836 -1.420958\n",
      "6  0.939077 -0.892861\n",
      "2  0.124343  0.390587\n",
      "3 -0.059460  0.534063\n",
      "5 -0.115436  0.015696\n",
      "9 -0.945977  0.650655\n",
      "8  0.993880 -3.015635\n",
      "0  0.415790  0.003064\n",
      "7 -0.627116  0.711635\n",
      "\n",
      "By Values\n",
      "       col2      col1\n",
      "9  0.650655 -0.945977\n",
      "4 -1.420958 -0.916836\n",
      "7  0.711635 -0.627116\n",
      "1  0.089525 -0.390213\n",
      "5  0.015696 -0.115436\n",
      "3  0.534063 -0.059460\n",
      "2  0.390587  0.124343\n",
      "0  0.003064  0.415790\n",
      "6 -0.892861  0.939077\n",
      "8 -3.015635  0.993880\n"
     ]
    }
   ],
   "source": [
    "\"\"\"\n",
    "Sorting the dataframe\n",
    "\"\"\"\n",
    "unsorted_df = pd.DataFrame(np.random.randn(10,2),index=[1,4,6,2,3,5,9,8,0,7],columns = ['col2','col1'])\n",
    "\n",
    "#Sort by row index(row labels)\n",
    "print \"\\n\",\"By Row labels\"\n",
    "sorted_df=unsorted_df.sort_index(ascending=False)\n",
    "print sorted_df\n",
    "\n",
    "#Sort by column labels\n",
    "print \"\\n\",\"By Columns labels\"\n",
    "sorted_df=unsorted_df.sort_index(axis=1)\n",
    "print sorted_df\n",
    "\n",
    "#Sort by the dataframe values\n",
    "print \"\\n\",\"By Values\"\n",
    "sorted_df = unsorted_df.sort_values(by=['col1','col2'])\n",
    "print sorted_df"
   ]
  }
 ],
 "metadata": {
  "kernelspec": {
   "display_name": "Python 2",
   "language": "python",
   "name": "python2"
  },
  "language_info": {
   "codemirror_mode": {
    "name": "ipython",
    "version": 2
   },
   "file_extension": ".py",
   "mimetype": "text/x-python",
   "name": "python",
   "nbconvert_exporter": "python",
   "pygments_lexer": "ipython2",
   "version": "2.7.14"
  }
 },
 "nbformat": 4,
 "nbformat_minor": 2
}
