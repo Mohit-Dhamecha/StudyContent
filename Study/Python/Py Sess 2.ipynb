{
 "cells": [
  {
   "cell_type": "markdown",
   "metadata": {
    "collapsed": true
   },
   "source": [
    "### User Defined Functions"
   ]
  },
  {
   "cell_type": "code",
   "execution_count": null,
   "metadata": {
    "collapsed": false
   },
   "outputs": [],
   "source": [
    "#functions are mini-programs that operate within their own scope (with the ability to access,\n",
    "#albeit not advisable, the global scope)\n",
    "\n",
    "#they take in parameters (values of variables) from the global scope, process these values and throw\n",
    "#out values to the outer scope \n",
    "\n",
    "#example - \n",
    "\n",
    "def func_sum(a,b,c):\n",
    "    s = a+b+c\n",
    "    return s\n",
    "\n",
    "print func_sum(1,2,3)\n",
    "out = func_sum(0,0,4)\n",
    "print out"
   ]
  },
  {
   "cell_type": "code",
   "execution_count": null,
   "metadata": {
    "collapsed": false
   },
   "outputs": [],
   "source": [
    "#the return keyword tells the function to hand over the argument succeeding it to the outer scope\n",
    "#the absence of a return will produce no output (unless there is a print statement inside the function)\n",
    "\n",
    "def func_sum(a,b,c):\n",
    "    s = a+b+c\n",
    "    print s\n",
    "\n",
    "#the below line calls the function on 4,7,9\n",
    "#the function promptly calculates the sum and prints it to the console\n",
    "#however, it doesn't \"hand-over\" anything to the outer scope as there is no \"return\" statement\n",
    "out = func_sum(4,7,9)\n",
    "\n",
    "#since nothing is handed over, the variable 'out' is empty\n",
    "print out\n"
   ]
  },
  {
   "cell_type": "code",
   "execution_count": null,
   "metadata": {
    "collapsed": false
   },
   "outputs": [],
   "source": [
    "#default values for parameters can be set in the function definition\n",
    "\n",
    "def func(a=0, b=0):\n",
    "    return a+b\n",
    "\n",
    "print func()\n",
    "print func(2,3)\n",
    "#the above doesn't throw an error even though no value is passed to func\n"
   ]
  },
  {
   "cell_type": "code",
   "execution_count": null,
   "metadata": {
    "collapsed": false
   },
   "outputs": [],
   "source": [
    "#functions with an indefinite number of arguments\n",
    "def func(x=\"\", *a):\n",
    "    print x\n",
    "    for i in a:\n",
    "        print \"value = \"+str(i)\n",
    "\n",
    "#here 'a' is stored as a tuple\n",
    "\n",
    "func(\"the following values were entered\", 4,2,8,7,6)"
   ]
  },
  {
   "cell_type": "code",
   "execution_count": null,
   "metadata": {
    "collapsed": false
   },
   "outputs": [],
   "source": [
    "#functions with an indefinite number of NAMED arguments\n",
    "def func(x=\"\", **a):\n",
    "    print x\n",
    "    for i in a:\n",
    "        print \"key = \"+str(i)+\"; value = \"+str(a[i])\n",
    "\n",
    "#here 'a' is stored as a dictionary        \n",
    "        \n",
    "func(\"the following key-value pairs were entered\", apple=4, orange=2, banana=8, someotherfruit=7, yetanotherfruit=6)"
   ]
  },
  {
   "cell_type": "code",
   "execution_count": null,
   "metadata": {
    "collapsed": false
   },
   "outputs": [],
   "source": [
    "#function scope is the extent to which functions have control over variables\n",
    "\n",
    "#any variable created inside the body of the function is valid only till the function finishes executing\n",
    "#this is the case EVEN if a variable of the same name exists outside the function body (in the global scope)\n",
    "\n",
    "a = 10\n",
    "\n",
    "def func():\n",
    "    a=25\n",
    "    return a\n",
    "\n",
    "print func()\n",
    "print a\n",
    "\n",
    "#the 'a' created inside 'func' lasts only till the end of 'func' post which calling 'a' points to the global 'a' created\n",
    "#outside the function body"
   ]
  },
  {
   "cell_type": "code",
   "execution_count": null,
   "metadata": {
    "collapsed": false
   },
   "outputs": [],
   "source": [
    "#if, however, we wanted to use global 'a' inside the function, we would just have to ensure there is no other\n",
    "#variable named 'a' inside the function\n",
    "\n",
    "a = 9 #some random number\n",
    "\n",
    "def func(x):\n",
    "    return a*x\n",
    "\n",
    "print func(4)\n",
    "print a\n",
    "\n",
    "#since 'a' isn't defined inside 'func' any reference to 'a' will point to 'a' in the global space"
   ]
  },
  {
   "cell_type": "code",
   "execution_count": null,
   "metadata": {
    "collapsed": false
   },
   "outputs": [],
   "source": [
    "#how would you modify 'a' from inside the function?\n",
    "#(say we needed a counter to count how many times a function is executed)\n",
    "\n",
    "count=0\n",
    "\n",
    "def func(a,b):\n",
    "    count+=1\n",
    "    return a+b\n",
    "\n",
    "func(2,4) #this WILL THROW AN ERROR\n",
    "\n",
    "#the function is trying to use a LOCAL variable named 'count' when there is NO SUCH LOCAL VARIABLE!"
   ]
  },
  {
   "cell_type": "code",
   "execution_count": null,
   "metadata": {
    "collapsed": false
   },
   "outputs": [],
   "source": [
    "#work-around to the problem in the previous cell\n",
    "\n",
    "count=0\n",
    "\n",
    "def func(a,b):\n",
    "    global count\n",
    "    count+=1\n",
    "    return a+b\n",
    "\n",
    "print func(2,4)\n",
    "\n",
    "print func(1,2)\n",
    "print func(4,67)\n",
    "print func(0,0)\n",
    "print count\n",
    "\n",
    "#modifying global variables within a function beats the whole purpose of having modular code, doesn't it?"
   ]
  },
  {
   "cell_type": "code",
   "execution_count": null,
   "metadata": {
    "collapsed": false
   },
   "outputs": [],
   "source": [
    "#if at all you need to modify global variables pass their values to the function as parameters,\n",
    "#modify the value inside the function, and return the value to the global scope\n",
    "\n",
    "count = 0\n",
    "\n",
    "def func(a,b,cnt=0):\n",
    "    cnt+=1\n",
    "    return a+b,cnt\n",
    "\n",
    "out,count = func(2,4,count)\n",
    "print \"first out = \"+str(out)\n",
    "\n",
    "out,count = func(1,2,count)\n",
    "print \"second out = \"+str(out)\n",
    "\n",
    "out,count = func(4,67,count)\n",
    "print \"third out = \"+str(out)\n",
    "\n",
    "out,count = func(0,0,count)\n",
    "print \"fourth out = \"+str(out)\n",
    "\n",
    "print \"count = \"+str(count)\n"
   ]
  },
  {
   "cell_type": "markdown",
   "metadata": {},
   "source": [
    "### Pythonic Functions\n",
    "Ultra-cool functionalities that Python provides!"
   ]
  },
  {
   "cell_type": "markdown",
   "metadata": {},
   "source": [
    "#### Lambda"
   ]
  },
  {
   "cell_type": "code",
   "execution_count": null,
   "metadata": {
    "collapsed": false
   },
   "outputs": [],
   "source": [
    "#these are use-and-throw one-step functions (they can obviously be stored and reused but that is seldom the intended use)\n",
    "\n",
    "f = lambda x:x+4\n",
    "#when given a variable, 'f' adds the number 4 to it and returns the output\n",
    "\n",
    "print f(4)\n",
    "print f(6.45)\n",
    "\n",
    "#the above is equivalent to\n",
    "def f(x):\n",
    "    return x+4\n",
    "\n",
    "#lambda can be used without having to create a variable 'f' as well!\n",
    "print (lambda x:x%3)(17) #this returns the remainder of 17 when divided by 3"
   ]
  },
  {
   "cell_type": "markdown",
   "metadata": {},
   "source": [
    "#### Map"
   ]
  },
  {
   "cell_type": "code",
   "execution_count": 1,
   "metadata": {
    "collapsed": false
   },
   "outputs": [
    {
     "name": "stdout",
     "output_type": "stream",
     "text": [
      "[1, 4, 9, 16]\n",
      "[1.0, 3.0, 6.0, 3.0]\n",
      "[0, 4, 16, 36, 64]\n",
      "[True, False, False, True, False, False, True, False, False, True, False, False, True, False, False]\n"
     ]
    }
   ],
   "source": [
    "#map applies a given function to all the elements of a given iterable\n",
    "\n",
    "def func(a):\n",
    "    return a*a\n",
    "\n",
    "print map(func, [1,2,3,4])\n",
    "print map(round, (1.4, 2.9, 5.89, 3.04))\n",
    "print map(func, range(0,10, 2))\n",
    "\n",
    "#lambda ties in perfectly with map (duh!)\n",
    "print map(lambda x:True if x%3==0 else False, range(15))"
   ]
  },
  {
   "cell_type": "markdown",
   "metadata": {},
   "source": [
    "#### Filter"
   ]
  },
  {
   "cell_type": "code",
   "execution_count": null,
   "metadata": {
    "collapsed": false
   },
   "outputs": [],
   "source": [
    "#filter is like an extension to map that subsets an iterable based on a function\n",
    "\n",
    "#syntactically, map and filter are the same\n",
    "\n",
    "def isOdd(x):\n",
    "    if x%2==1:\n",
    "        return True\n",
    "    else:\n",
    "        return False\n",
    "\n",
    "new = filter(isOdd, [1,2,3,4,5,6,7,8,9])\n",
    "print new\n",
    "\n",
    "#the function being passed must return a boolean parameter (see appendix)\n",
    "\n",
    "#filter first maps a function to all elements of a list thereby, creating a new list with T's and F's\n",
    "#it then selects those elements in the original list at the T indices in the new list"
   ]
  },
  {
   "cell_type": "markdown",
   "metadata": {
    "collapsed": true
   },
   "source": [
    "#### Zip"
   ]
  },
  {
   "cell_type": "code",
   "execution_count": null,
   "metadata": {
    "collapsed": false
   },
   "outputs": [],
   "source": [
    "#zip works like a zipper (intuition much?)\n",
    "\n",
    "#two/more iterables passed to zip are merged to form an iterable of the same length\n",
    "#each element of the new iterale is a tuple consisting of the corresponding elements from the initial iterables (phew!)\n",
    "\n",
    "a = [1,2,3,4]\n",
    "b = ['a', 'b', 'c', 'd']\n",
    "c = [0.1, 0.2, 0.3, 0.4]\n",
    "\n",
    "z_ab = zip(a,b)\n",
    "print z_ab\n",
    "\n",
    "z_abc = zip(a,b,c)\n",
    "print z_abc"
   ]
  },
  {
   "cell_type": "code",
   "execution_count": null,
   "metadata": {
    "collapsed": false
   },
   "outputs": [],
   "source": [
    "#zips are very useful when a loop needs to be run over multiple iterables\n",
    "\n",
    "#consider this - \n",
    "i=0\n",
    "print \"using loops without zip\"\n",
    "while i<len(a):\n",
    "    print str(a[i])+\" - \"+str(b[i])+\" - \"+str(c[i])\n",
    "    i+=1\n",
    "\n",
    "#if we use zip\n",
    "print \"using zip\"\n",
    "for x,y,z in zip(a,b,c):\n",
    "    print str(x)+\" - \"+str(y)+\" - \"+str(z)"
   ]
  },
  {
   "cell_type": "markdown",
   "metadata": {},
   "source": [
    "#### Reduce"
   ]
  },
  {
   "cell_type": "code",
   "execution_count": null,
   "metadata": {
    "collapsed": false
   },
   "outputs": [],
   "source": [
    "#reduce, as the name suggests, REDUCES iterables to a single value\n",
    "from functools import reduce #reduce isn't part of Python base and needs to be imported from functools\n",
    "\n",
    "print reduce(lambda x,y:x+y, [1,2,3,4,5,6,7,8])\n",
    "\n",
    "#reduce has the same syntax as map and filter\n",
    "#it accepts a function that converts two values to one (two inputs -> one output)\n",
    "#this function is recursively used to reduce the length of the iterable from left to right\n",
    "\n",
    "#the above lambda function replaces x,y with x+y (x,y->x+y)\n",
    "# 1,2,3,4,5,6,7,8 becomes\n",
    "#   3,3,4,5,6,7,8 which becomes\n",
    "#     6,4,5,6,7,8 which in turn becomes\n",
    "#      10,5,6,7,8 and that is reduced to\n",
    "#        15,6,7,8 further, we have\n",
    "#          21,7,8 i'm running out of things to say now\n",
    "#            28,8 <insert drumroll>\n",
    "#              36 :D\n",
    "\n",
    "#this prints the max in the list (albeit extremely redundant) demonstrating other use cases of reduce\n",
    "print reduce(lambda x,y:x if x>y else y, [2,65,-7,17,1,0,27])"
   ]
  },
  {
   "cell_type": "markdown",
   "metadata": {},
   "source": [
    "### Packages and Imports"
   ]
  },
  {
   "cell_type": "code",
   "execution_count": null,
   "metadata": {
    "collapsed": true
   },
   "outputs": [],
   "source": [
    "#import statements let you use functionality from other Python code in your code\n",
    "\n",
    "#modules : python script\n",
    "#sub-packaging : sub-container (sub-directory)\n",
    "#packaging : container (directory)"
   ]
  },
  {
   "cell_type": "code",
   "execution_count": null,
   "metadata": {
    "collapsed": true
   },
   "outputs": [],
   "source": [
    "#when an import statement is called, Python looks in the following locations in the following order:\n",
    "# - the current directory (or the directory with the current script in it)\n",
    "# - paths listed in environment variable PYTHONPATH\n",
    "# - the folder where Python is installed (either the root directory or the 'Libs' folder in the root directory)\n",
    "#p.s. - the last location is platform dependent"
   ]
  },
  {
   "cell_type": "code",
   "execution_count": null,
   "metadata": {
    "collapsed": false
   },
   "outputs": [],
   "source": [
    "#'location' here refers to one of the above three locations\n",
    "\n",
    "#PLEASE NOTE - NONE OF THESE CODES WILL WORK AS THESE PACKAGES AND MODULES ARE HYPOTHETICAL!\n",
    "\n",
    "#say there is a module named 'filea' at the location\n",
    "#say 'filea' consists of functions 'funca1' and 'funca2'\n",
    "\n",
    "#to import 'filea'\n",
    "import filea\n",
    "#or\n",
    "from filea import *\n",
    "\n",
    "#to import just 'funca1' from 'filea'\n",
    "from filea import funca1\n",
    "\n",
    "############\n",
    "#say 'filea' is contained within a package called 'sud_pack'\n",
    "\n",
    "#to import 'filea'\n",
    "import sud_pack.filea\n",
    "#or\n",
    "from sud_pack.filea import *\n",
    "\n",
    "#to import just 'funca2' from 'filea'\n",
    "from sud_pack.filea import funca2\n",
    "\n",
    "############\n",
    "#say 'filea' is contained within a subpackage called 'subpack' which is contained inside 'sud_pack'\n",
    "\n",
    "#to import 'filea'\n",
    "import sud_pack.subpack.filea\n",
    "#or\n",
    "from sud_pack.subpack.filea import *\n",
    "\n",
    "#to import just 'funca2' from 'filea'\n",
    "from sud_pack.subpack.filea import funca2"
   ]
  },
  {
   "cell_type": "code",
   "execution_count": null,
   "metadata": {
    "collapsed": true
   },
   "outputs": [],
   "source": [
    "#Q : what is a package/subpackage?\n",
    "#A : it's a collection of subpackages/modules\n",
    "\n",
    "#Q : why do we need these?\n",
    "#A : purely for organisational/hygiene purposes\n",
    "\n",
    "#Q : what do packages/subpackages look like on my system?\n",
    "#A : they are just directories/sub-directories (folders) on your system\n",
    "\n",
    "#Q : are all directories packages/subpackages?\n",
    "#A : NO! only those folders that have a '__init__.py' file are considered packages/subpackages"
   ]
  },
  {
   "cell_type": "markdown",
   "metadata": {},
   "source": [
    "### Exception Handling"
   ]
  },
  {
   "cell_type": "code",
   "execution_count": null,
   "metadata": {
    "collapsed": true
   },
   "outputs": [],
   "source": [
    "#rule0 : people are stupid\n",
    "#rule1 : internet never works\n",
    "#rule2 : PEOPLE ARE STUPID!\n",
    "\n",
    "#Q : why do we need to prepare our code for exceptions?\n",
    "#A : TCS runs and maintains the codes we write\n",
    "\n",
    "#'try' is a construct that lets you run the code placed in it without breaking due to errors\n",
    "#when an error is encountered, the code performs some additional steps (user defined) instead of failing altogether"
   ]
  },
  {
   "cell_type": "code",
   "execution_count": 2,
   "metadata": {
    "collapsed": false
   },
   "outputs": [
    {
     "name": "stdout",
     "output_type": "stream",
     "text": [
      "datatypes mismatched\n"
     ]
    }
   ],
   "source": [
    "a = 10\n",
    "b = 0\n",
    "c = \"123\"\n",
    "\n",
    "try:\n",
    "    x = a+c\n",
    "    print a/b\n",
    "except ZeroDivisionError:\n",
    "    print \"zero encountered\"\n",
    "except TypeError:\n",
    "    print \"datatypes mismatched\"\n",
    "\n",
    "#notice how ONLY the first error encountered is excepted\n",
    "#the second line in the try clause is ignored altogether!"
   ]
  },
  {
   "cell_type": "code",
   "execution_count": 3,
   "metadata": {
    "collapsed": false
   },
   "outputs": [
    {
     "name": "stdout",
     "output_type": "stream",
     "text": [
      "some error occurred\n",
      "go figure...\n"
     ]
    }
   ],
   "source": [
    "#if an except clause has no Error specified, it'll serve as the default for when no other except clause matches the error\n",
    "\n",
    "try:\n",
    "    print a+c\n",
    "    print a/b\n",
    "except ZeroDivisionError:\n",
    "    print \"ZD error\"\n",
    "except:\n",
    "    print \"some error occurred\\ngo figure...\""
   ]
  },
  {
   "cell_type": "code",
   "execution_count": 4,
   "metadata": {
    "collapsed": false
   },
   "outputs": [
    {
     "ename": "TypeError",
     "evalue": "unsupported operand type(s) for +: 'int' and 'str'",
     "output_type": "error",
     "traceback": [
      "\u001b[1;31m---------------------------------------------------------------------------\u001b[0m",
      "\u001b[1;31mTypeError\u001b[0m                                 Traceback (most recent call last)",
      "\u001b[1;32m<ipython-input-4-ac3c58a9ffe1>\u001b[0m in \u001b[0;36m<module>\u001b[1;34m()\u001b[0m\n\u001b[0;32m      5\u001b[0m     \u001b[1;32mprint\u001b[0m \u001b[1;36m1\u001b[0m\u001b[1;33m/\u001b[0m\u001b[1;36m0\u001b[0m\u001b[1;33m\u001b[0m\u001b[0m\n\u001b[0;32m      6\u001b[0m \u001b[1;32mexcept\u001b[0m\u001b[1;33m:\u001b[0m\u001b[1;33m\u001b[0m\u001b[0m\n\u001b[1;32m----> 7\u001b[1;33m     \u001b[1;32mprint\u001b[0m \u001b[1;36m1\u001b[0m\u001b[1;33m+\u001b[0m\u001b[1;34m\"abc\"\u001b[0m\u001b[1;33m\u001b[0m\u001b[0m\n\u001b[0m\u001b[0;32m      8\u001b[0m \u001b[1;33m\u001b[0m\u001b[0m\n\u001b[0;32m      9\u001b[0m \u001b[1;32mprint\u001b[0m \u001b[1;34m\"we're done\"\u001b[0m\u001b[1;33m\u001b[0m\u001b[0m\n",
      "\u001b[1;31mTypeError\u001b[0m: unsupported operand type(s) for +: 'int' and 'str'"
     ]
    }
   ],
   "source": [
    "#'finally' in try-except\n",
    "\n",
    "#consider the below code\n",
    "try:\n",
    "    print 1/0\n",
    "except:\n",
    "    print 1+\"abc\"\n",
    "\n",
    "print \"we're done\"\n",
    "\n",
    "#the 'except' statement itself has an error which will mean the program will fail before the last step is reached\n",
    "#\"we're done\" will NOT be printed in this case"
   ]
  },
  {
   "cell_type": "code",
   "execution_count": 2,
   "metadata": {
    "collapsed": false
   },
   "outputs": [
    {
     "name": "stdout",
     "output_type": "stream",
     "text": [
      "we're done\n"
     ]
    },
    {
     "ename": "TypeError",
     "evalue": "unsupported operand type(s) for +: 'int' and 'str'",
     "output_type": "error",
     "traceback": [
      "\u001b[1;31m---------------------------------------------------------------------------\u001b[0m",
      "\u001b[1;31mTypeError\u001b[0m                                 Traceback (most recent call last)",
      "\u001b[1;32m<ipython-input-2-fa1fd6d40c07>\u001b[0m in \u001b[0;36m<module>\u001b[1;34m()\u001b[0m\n\u001b[0;32m      4\u001b[0m     \u001b[1;32mprint\u001b[0m \u001b[1;36m1\u001b[0m\u001b[1;33m/\u001b[0m\u001b[1;36m0\u001b[0m\u001b[1;33m\u001b[0m\u001b[0m\n\u001b[0;32m      5\u001b[0m \u001b[1;32mexcept\u001b[0m\u001b[1;33m:\u001b[0m\u001b[1;33m\u001b[0m\u001b[0m\n\u001b[1;32m----> 6\u001b[1;33m     \u001b[1;32mprint\u001b[0m \u001b[1;36m1\u001b[0m\u001b[1;33m+\u001b[0m\u001b[1;34m\"abc\"\u001b[0m\u001b[1;33m\u001b[0m\u001b[0m\n\u001b[0m\u001b[0;32m      7\u001b[0m \u001b[1;32mfinally\u001b[0m\u001b[1;33m:\u001b[0m\u001b[1;33m\u001b[0m\u001b[0m\n\u001b[0;32m      8\u001b[0m     \u001b[1;32mprint\u001b[0m \u001b[1;34m\"we're done\"\u001b[0m\u001b[1;33m\u001b[0m\u001b[0m\n",
      "\u001b[1;31mTypeError\u001b[0m: unsupported operand type(s) for +: 'int' and 'str'"
     ]
    }
   ],
   "source": [
    "#we can instead use the 'finally' statement\n",
    "\n",
    "try:\n",
    "    print 1/0\n",
    "except:\n",
    "    print 1+\"abc\"\n",
    "finally:\n",
    "    print \"we're done\"\n",
    "\n",
    "#notice how \"we're done\" is printed regardless of what happens in the except block\n",
    "#also notice how the finally part is executed BEFORE the except clause fails!"
   ]
  },
  {
   "cell_type": "code",
   "execution_count": 4,
   "metadata": {
    "collapsed": false
   },
   "outputs": [],
   "source": [
    "#a more realistic example - \n",
    "\n",
    "try:\n",
    "    pass\n",
    "    #open some file\n",
    "    #calculate input_a/input_b and write to the file\n",
    "except:\n",
    "    pass\n",
    "    #load a detailed error message template stored on a share-drive\n",
    "finally:\n",
    "    pass\n",
    "    #close the file\n",
    "\n",
    "#here we're trying to calculate a value and write it to a file\n",
    "#if this fails, we try to pull a detailed error message from a network location\n",
    "#our fallback measure ITSELF is error prone (irony much?)\n",
    "#when our fallback measure fails, our code breaks (code break is acceptable)\n",
    "#BUT - another consequence is that the file we opened initially is STILL OPEN (much risk!)\n",
    "\n",
    "#'finally' to the rescue! closes the file regardless of failures in the except/try blocks\n",
    "\n",
    "#p.s. - the 'pass' statement does nothing - it's a placeholder to maintain indentation when a construct has no code body"
   ]
  },
  {
   "cell_type": "code",
   "execution_count": null,
   "metadata": {
    "collapsed": false
   },
   "outputs": [],
   "source": [
    "#'else' in try-except\n",
    "\n",
    "#'else' is another clause that can be added to the try-except construct\n",
    "#the statements in the 'else' clause are executed ONLY when NO error is raised in the try clause\n",
    "\n",
    "try:\n",
    "    pass\n",
    "    #some error prone code\n",
    "except:\n",
    "    pass\n",
    "    #ways to handle errors\n",
    "else:\n",
    "    pass\n",
    "    print \"No errors were found\"\n"
   ]
  },
  {
   "cell_type": "code",
   "execution_count": null,
   "metadata": {
    "collapsed": false
   },
   "outputs": [],
   "source": [
    "#you may argue that whatever needs to be executed given an error is NOT encountered can be placed at the end of the 'try' clause\n",
    "#thereby, rendering the 'else' statement useless\n",
    "\n",
    "#however, this approach is clumsy and is not PYTHONIC (that is an actual adjective ...)\n",
    "\n",
    "#consider this\n",
    "try:\n",
    "    pass\n",
    "    #error prone code\n",
    "except:\n",
    "    pass\n",
    "    #handle error\n",
    "else:\n",
    "    pass\n",
    "    #code for when no error is found\n",
    "    \n",
    "#the above code can, \"technicaly\", be substituted with the following\n",
    "try:\n",
    "    pass\n",
    "    #error prone code\n",
    "    #code for when no error is found (a.k.a codeB)\n",
    "except:\n",
    "    pass\n",
    "    #handle error\n",
    "\n",
    "#BUT.\n",
    "#what happens when \"codeB\" itself has errors? everything fails! the world comes to an end!! (word of the day = 'exaggeration')\n",
    "\n",
    "#the else statement prevents you from adding to your try clause, code which isn't intended to be\n",
    "#caught by the corresponding except(s)"
   ]
  },
  {
   "cell_type": "code",
   "execution_count": null,
   "metadata": {
    "collapsed": true
   },
   "outputs": [],
   "source": [
    "#to be honest, never will you be in a situation where there is ABSOLUTELY NO WORKAROUND besides using 'else' and 'finally'\n",
    "#however, these constructs ensure your code is clean, crisp and intuitive"
   ]
  },
  {
   "cell_type": "markdown",
   "metadata": {},
   "source": [
    "### Appendix"
   ]
  },
  {
   "cell_type": "code",
   "execution_count": null,
   "metadata": {
    "collapsed": false
   },
   "outputs": [],
   "source": [
    "a=10\n",
    "\n",
    "def func(x):\n",
    "    print a #a from the global scope is printed as there is no 'a' defined inside the function\n",
    "    return x\n",
    "\n",
    "func(4) #this line works fine\n",
    "\n",
    "def func2(x):\n",
    "    print a #step1\n",
    "    a=5 #step2\n",
    "    print a #step3\n",
    "    return x #step4\n",
    "\n",
    "func2(4) #this line fails. why? read on\n",
    "\n",
    "#since step2 defines 'a' locally, ALL references to 'a' inside the function (after AND before step2) will be considered\n",
    "#as references to local 'a' which has the value 5 (NOT global 'a' which holds value 10)\n",
    "\n",
    "#therefore, step1 fails because you're trying to call local 'a' before you create it\n",
    "#LOL"
   ]
  },
  {
   "cell_type": "code",
   "execution_count": null,
   "metadata": {
    "collapsed": false
   },
   "outputs": [],
   "source": [
    "#filter also works when the lambda function returns any other value (other than bool)\n",
    "#the return value is coerced to boolean and then used\n",
    "#egs-\n",
    "\n",
    "def func(a):\n",
    "    if a>10:\n",
    "        return 12345\n",
    "    else:\n",
    "        return 0\n",
    "    \n",
    "filter(func, [1,5,10,15,20])\n",
    "#this works because bool(12345) = True and bool(0) = False"
   ]
  },
  {
   "cell_type": "code",
   "execution_count": null,
   "metadata": {
    "collapsed": false
   },
   "outputs": [],
   "source": [
    "#zip can be used to create a dictionary\n",
    "a = [1,2,3]\n",
    "b = [2,4,6]\n",
    "d = dict(zip(a,b))\n",
    "print d\n",
    "\n",
    "#p.s. d = dict([(1,2), (2,4), (3,6)]) works the same as well"
   ]
  },
  {
   "cell_type": "code",
   "execution_count": null,
   "metadata": {
    "collapsed": true
   },
   "outputs": [],
   "source": [
    "#a package can have several nested subpackages\n",
    "#import packageX.sub1.sub2.moduleX works fine as long as the folders packageX, sub1 and sub2 have a '__init__.py' file each"
   ]
  },
  {
   "cell_type": "code",
   "execution_count": null,
   "metadata": {
    "collapsed": true
   },
   "outputs": [],
   "source": [
    "#any statements contained in the __init__.py file of a package or in the module.py file will be executed\n",
    "#you can use this to print important messages like\n",
    "#\"package has been loaded!\"\n",
    "#\"module has been loaded\"\n",
    "#\"this module is ONLY compatible with Py-3 and above\n",
    "#\"other dependencies for this module include <blah> <blah> ...\""
   ]
  }
 ],
 "metadata": {
  "anaconda-cloud": {},
  "kernelspec": {
   "display_name": "Python [Root]",
   "language": "python",
   "name": "Python [Root]"
  },
  "language_info": {
   "codemirror_mode": {
    "name": "ipython",
    "version": 2
   },
   "file_extension": ".py",
   "mimetype": "text/x-python",
   "name": "python",
   "nbconvert_exporter": "python",
   "pygments_lexer": "ipython2",
   "version": "2.7.12"
  }
 },
 "nbformat": 4,
 "nbformat_minor": 0
}
