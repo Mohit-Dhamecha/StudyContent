{
 "cells": [
  {
   "cell_type": "markdown",
   "metadata": {},
   "source": [
    "## Python Day 1 Assignment Questions"
   ]
  },
  {
   "cell_type": "markdown",
   "metadata": {},
   "source": [
    "### Q1) \n",
    "\n",
    "![Image](https://i.imgur.com/RBH4hyG.png)"
   ]
  },
  {
   "cell_type": "code",
   "execution_count": null,
   "metadata": {
    "collapsed": true
   },
   "outputs": [],
   "source": []
  },
  {
   "cell_type": "markdown",
   "metadata": {},
   "source": [
    "### Q2) Make a simple numeric calculator that \n",
    "##### 1) takes input for the numbers\n",
    "##### 2) takes input for the operation to be done\n",
    "##### 3) asks for round up or round down the number (if decimal)\n",
    "##### 4) give an option to continue with the result as one argument"
   ]
  },
  {
   "cell_type": "code",
   "execution_count": null,
   "metadata": {
    "collapsed": true
   },
   "outputs": [],
   "source": []
  },
  {
   "cell_type": "markdown",
   "metadata": {},
   "source": [
    "### Q3) Create a program that takes an year as the input and outputs whether the year is a leap year or not.\n",
    "##### (It's not just dividing by 4, Ref- https://en.wikipedia.org/wiki/Leap_year )"
   ]
  },
  {
   "cell_type": "code",
   "execution_count": null,
   "metadata": {
    "collapsed": true
   },
   "outputs": [],
   "source": []
  },
  {
   "cell_type": "markdown",
   "metadata": {},
   "source": [
    "### Q4)\tMake a program which plays a simple game of 2 Questions. The first question should be \"animal, vegetable, or mineral?\" Then, the second question should be \"is it bigger than a breadbox?\" Then, display one of six possible responses, depending on their answers. You can choose what answers to give for each of the six possibilities.\n",
    "#### Here's a suggestion:\n",
    "\n",
    "![Image](https://i.imgur.com/KW1NMA3.png)\n"
   ]
  },
  {
   "cell_type": "code",
   "execution_count": null,
   "metadata": {
    "collapsed": true
   },
   "outputs": [],
   "source": []
  },
  {
   "cell_type": "markdown",
   "metadata": {},
   "source": [
    "### Q5) Input 2 integers X,Y and print all possible integer coordinates(x,y) in a 2-D plane, where x $\\le$ X, y $\\le$ Y"
   ]
  },
  {
   "cell_type": "code",
   "execution_count": null,
   "metadata": {
    "collapsed": true
   },
   "outputs": [],
   "source": []
  }
 ],
 "metadata": {
  "anaconda-cloud": {},
  "kernelspec": {
   "display_name": "Python [Root]",
   "language": "python",
   "name": "Python [Root]"
  },
  "language_info": {
   "codemirror_mode": {
    "name": "ipython",
    "version": 2
   },
   "file_extension": ".py",
   "mimetype": "text/x-python",
   "name": "python",
   "nbconvert_exporter": "python",
   "pygments_lexer": "ipython2",
   "version": "2.7.12"
  }
 },
 "nbformat": 4,
 "nbformat_minor": 2
}
