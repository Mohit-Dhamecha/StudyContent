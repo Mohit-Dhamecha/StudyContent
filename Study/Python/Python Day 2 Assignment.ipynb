{
 "cells": [
  {
   "cell_type": "markdown",
   "metadata": {},
   "source": [
    "# Python Day 2 Assignment"
   ]
  },
  {
   "cell_type": "markdown",
   "metadata": {},
   "source": [
    "### Q1.\tWrite a program that gets several integers from the user. Sum up all the integers they give you. Stop looping when they enter a 0. Display the total at the end. You must use a while loop"
   ]
  },
  {
   "cell_type": "code",
   "execution_count": null,
   "metadata": {},
   "outputs": [],
   "source": []
  },
  {
   "cell_type": "markdown",
   "metadata": {},
   "source": [
    "### Q2.\t(Collatz Sequence)Take any natural number n and\n",
    "a.\tIf n is even, divide it by 2 to get n / 2. <br/>\n",
    "b.\tIf n is odd, multiply it by 3 and add 1 to get 3n + 1. <br/>\n",
    "Repeat the process indefinitely.<br/>\n",
    "In 1937, Lothar Collatz proposed that no matter what number you begin with, the sequence eventually reaches 1. This is widely believed to be true, but has never been formally proved. <br/>\n",
    "Write a program that inputs a number from the user, and then displays the Collatz Sequence starting from that number. Stop when you reach 1. <br/>\n"
   ]
  },
  {
   "cell_type": "code",
   "execution_count": null,
   "metadata": {
    "scrolled": false
   },
   "outputs": [],
   "source": []
  },
  {
   "cell_type": "markdown",
   "metadata": {},
   "source": [
    "### Q3. Find all the three-digit Armstrong numbers. Armstrong numbers are three digit numbers such that the sum of the digits cubed is equal to the number itself.\n",
    "For example, 153 is an Armstrong number because 1³ + 5³ + 3³ = 153. However, 294 is not, because 2³ + 9³ + 4³ = 801 (not 294)<br/>\n",
    "Hint - Use nested for loop"
   ]
  },
  {
   "cell_type": "code",
   "execution_count": null,
   "metadata": {},
   "outputs": [],
   "source": []
  },
  {
   "cell_type": "markdown",
   "metadata": {},
   "source": [
    "### Q4. a.Write a function to determine whether a given integer is a prime number or not ? \n",
    "### b.Use the function to print all the prime numbers between a and b (input a and b)."
   ]
  },
  {
   "cell_type": "code",
   "execution_count": null,
   "metadata": {},
   "outputs": [],
   "source": []
  },
  {
   "cell_type": "markdown",
   "metadata": {},
   "source": [
    "### Q5. Write a function to generate fibbonacci series. (You can try using recursive functions)"
   ]
  },
  {
   "cell_type": "code",
   "execution_count": null,
   "metadata": {},
   "outputs": [],
   "source": []
  }
 ],
 "metadata": {
  "kernelspec": {
   "display_name": "Python 2",
   "language": "python",
   "name": "python2"
  },
  "language_info": {
   "codemirror_mode": {
    "name": "ipython",
    "version": 2
   },
   "file_extension": ".py",
   "mimetype": "text/x-python",
   "name": "python",
   "nbconvert_exporter": "python",
   "pygments_lexer": "ipython2",
   "version": "2.7.14"
  }
 },
 "nbformat": 4,
 "nbformat_minor": 2
}
