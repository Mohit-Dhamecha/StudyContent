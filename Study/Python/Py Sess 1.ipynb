{
 "cells": [
  {
   "cell_type": "markdown",
   "metadata": {},
   "source": [
    "### Datatypes"
   ]
  },
  {
   "cell_type": "markdown",
   "metadata": {},
   "source": [
    "#### Integers; Strings; Floats; Boolean"
   ]
  },
  {
   "cell_type": "code",
   "execution_count": null,
   "metadata": {
    "collapsed": true
   },
   "outputs": [],
   "source": [
    "a = 10\n",
    "b = \"i am cool\"\n",
    "c = 10.0\n",
    "d = True\n",
    "\n",
    "#unlike other languages such as C, C++, Java\n",
    "#there is no need to define what type a variable is\n",
    "#there is no need to make unusual imports\n",
    "#the first line of your code can be functional!"
   ]
  },
  {
   "cell_type": "code",
   "execution_count": null,
   "metadata": {
    "collapsed": false
   },
   "outputs": [],
   "source": [
    "a\n",
    "b\n",
    "c\n",
    "d\n",
    "\n",
    "#only the output of the last command is visible (all other outputs are overwritten)"
   ]
  },
  {
   "cell_type": "code",
   "execution_count": null,
   "metadata": {
    "collapsed": false
   },
   "outputs": [],
   "source": [
    "print a\n",
    "print b\n",
    "print b[2]\n",
    "print c\n",
    "print d\n",
    "\n",
    "#all outputs are visible (print function appends a 'newline' character - \\n at the end of each line)"
   ]
  },
  {
   "cell_type": "markdown",
   "metadata": {},
   "source": [
    "#### Lists"
   ]
  },
  {
   "cell_type": "code",
   "execution_count": null,
   "metadata": {
    "collapsed": true
   },
   "outputs": [],
   "source": [
    "#a list is a heterogenous collection of objects\n",
    "a = [2, 10, 35, 21, \"abc\", True, 2.0]\n",
    "print(a)"
   ]
  },
  {
   "cell_type": "code",
   "execution_count": null,
   "metadata": {
    "collapsed": false
   },
   "outputs": [],
   "source": [
    "#the list template (technically - the list class) offers multiple list specific functions and properties\n",
    "a.sort()\n",
    "print(a)\n",
    "\n",
    "a.append(100)\n",
    "print(a)\n",
    "\n",
    "a.extend(['a','b','c'])\n",
    "print(a)\n",
    "\n",
    "#doing a list.<tab> will bring up a dropdown of all methods/properties available in the list template\n",
    "#(this works for other templates as well)\n",
    "\n",
    "#hit tab after the '.' in the below line\n",
    "list.\n",
    "#if you're running this cell comment out the previous line (duh!)\n",
    "\n",
    "#you can also use the help function to get more info on these\n",
    "help(list.insert)\n",
    "help(list.extend)"
   ]
  },
  {
   "cell_type": "code",
   "execution_count": null,
   "metadata": {
    "collapsed": false
   },
   "outputs": [],
   "source": [
    "#notice how in all these above function (a.<xyz> type) calls there is nothing being returned\n",
    "#list a is bing changed in place (list a is being mutated)\n",
    "\n",
    "#an example to elaborate this further\n",
    "lista = [4,2,6,3,1,8,3,1]\n",
    "listb = sorted(lista, reverse=False)\n",
    "\n",
    "print(\"list a - \"+str(lista))\n",
    "print(\"list b - \"+str(listb))\n",
    "\n",
    "#clearly you can see the sorted function leaves lista untouched and creates a new list listb"
   ]
  },
  {
   "cell_type": "code",
   "execution_count": null,
   "metadata": {
    "collapsed": false
   },
   "outputs": [],
   "source": [
    "#list support item assignment - you can change an object at a particular index in a list\n",
    "lista[3] = \"blah\"\n",
    "listb[-4] = \"blahblah\"\n",
    "\n",
    "print lista\n",
    "print listb"
   ]
  },
  {
   "cell_type": "code",
   "execution_count": null,
   "metadata": {
    "collapsed": false
   },
   "outputs": [],
   "source": [
    "#lists support indexing and slicing\n",
    "\n",
    "a=[1,23,3,34,4,45,5,56]\n",
    "\n",
    "#indices start at 0 (unblike R where index starts at 1)\n",
    "print a[2]\n",
    "print a[5]\n",
    "\n",
    "#negative indices work as well\n",
    "print a[-1]\n",
    "print a[-3]"
   ]
  },
  {
   "cell_type": "code",
   "execution_count": null,
   "metadata": {
    "collapsed": false
   },
   "outputs": [],
   "source": [
    "#to extract a slice from a, use the ':' operator\n",
    "\n",
    "print a[2:5]\n",
    "print a[:4]\n",
    "print a[3:]\n",
    "\n",
    "print a[-3:-1]\n",
    "print a[-4:]\n",
    "print a[:-2]\n",
    "\n",
    "#please note:\n",
    "#limits in python of the form a,b or a:b almost always are INCLUSIVE of a and EXCLUSIVE of b"
   ]
  },
  {
   "cell_type": "code",
   "execution_count": null,
   "metadata": {
    "collapsed": false
   },
   "outputs": [],
   "source": [
    "#a second ':' operator can be used to specify a step interval\n",
    "print a[1:5:2]\n",
    "print a[-8:-1:3]\n",
    "\n",
    "#use this creatively to reverse the order of slicing\n",
    "print a[-1:-5:-1]\n",
    "print a[::-1]"
   ]
  },
  {
   "cell_type": "code",
   "execution_count": null,
   "metadata": {
    "collapsed": false
   },
   "outputs": [],
   "source": [
    "#lists are funky\n",
    "\n",
    "a = [1,2,3,4]\n",
    "print \"a was - \"+str(a)\n",
    "\n",
    "b=a\n",
    "print \"b was - \"+str(b)\n",
    "\n",
    "b[2] = 100\n",
    "print \"b is - \"+str(b)\n",
    "\n",
    "print \"a is - \"+str(a)\n",
    "\n",
    "#a changes without being changed!\n",
    "#when you do b=a, python doesn't create a NEW variable called b\n",
    "#instead it assigns another name to the memory block being pointed at by 'a'\n",
    "#imagine the memory block as a house with two doors - 'a' and 'b'"
   ]
  },
  {
   "cell_type": "code",
   "execution_count": null,
   "metadata": {
    "collapsed": false
   },
   "outputs": [],
   "source": [
    "#to check the address that a variable is pointing to use the 'id' function\n",
    "print id(a)\n",
    "print id(b)\n",
    "\n",
    "c=[1,2,1,2,1,2,1,2]\n",
    "print id(c)"
   ]
  },
  {
   "cell_type": "markdown",
   "metadata": {},
   "source": [
    "#### Tuples"
   ]
  },
  {
   "cell_type": "code",
   "execution_count": null,
   "metadata": {
    "collapsed": false
   },
   "outputs": [],
   "source": [
    "#tuples are immutable lists\n",
    "\n",
    "tup_a = (1,2,3,4,5)\n",
    "\n",
    "#they have all the properties of lists except for their mutability\n",
    "\n",
    "#although users don't often use tuples, python uses them for a lot of background activities\n",
    "#function calls - parameters to a function are passed to the function in a tuple\n",
    "#multi-variable assignment - look below\n",
    "a,b,c = 1,2.0,\"abc\"\n",
    "print a\n",
    "print b\n",
    "print c"
   ]
  },
  {
   "cell_type": "markdown",
   "metadata": {},
   "source": [
    "#### Dictionaries"
   ]
  },
  {
   "cell_type": "code",
   "execution_count": null,
   "metadata": {
    "collapsed": false
   },
   "outputs": [],
   "source": [
    "#dictionaries are bags of key-value pairs in no particular order\n",
    "\n",
    "d = {'a':'apple', 'b':'bat', 3:'three', 'four':4}\n",
    "print d\n",
    "\n",
    "print d['a']\n",
    "\n",
    "d[3] = 'threeeeeee'\n",
    "print d\n",
    "\n",
    "#dictionaries can also have tuples as keys/values\n",
    "d = {(1,2,3):\"tuple a\", \"tuple b\":(1,2,3,4)}\n",
    "print d['tuple b']\n",
    "print d[(1,2,3)]\n",
    "\n",
    "#lists/dictionaries can be values but NOT keys"
   ]
  },
  {
   "cell_type": "code",
   "execution_count": null,
   "metadata": {
    "collapsed": true
   },
   "outputs": [],
   "source": [
    "#dictionaries can be used as a structure to store variables of similar functional purposes\n",
    "#(like parameters/settings being used in a code)\n",
    "\n",
    "#named arguments in a function call are passed as dictionaries"
   ]
  },
  {
   "cell_type": "markdown",
   "metadata": {},
   "source": [
    "### Conditional Constructs"
   ]
  },
  {
   "cell_type": "code",
   "execution_count": null,
   "metadata": {
    "collapsed": false
   },
   "outputs": [],
   "source": [
    "#if-else constructs\n",
    "\n",
    "num = 10\n",
    "\n",
    "if num>20:\n",
    "    print \"Greater than 20\"\n",
    "elif num>5:\n",
    "    print \"Greater than 5\"\n",
    "else:\n",
    "    print \"Smaller or equal to 5\"\n",
    "\n",
    "    \n",
    "#this is self explanatory\n",
    "#notice how the colon (:) shows the begining of a construct\n",
    "#most IDE's automatically insert an indent when you hit 'return' after a ':'"
   ]
  },
  {
   "cell_type": "code",
   "execution_count": null,
   "metadata": {
    "collapsed": false
   },
   "outputs": [],
   "source": [
    "#inline if-else\n",
    "age = 20\n",
    "\n",
    "canVote = True if age>=18 else False\n",
    "\n",
    "print canVote"
   ]
  },
  {
   "cell_type": "code",
   "execution_count": null,
   "metadata": {
    "collapsed": false
   },
   "outputs": [],
   "source": [
    "#nested if-elses\n",
    "\n",
    "flag1 = True\n",
    "val = 35\n",
    "\n",
    "if val>=20:\n",
    "    if flag1:\n",
    "        print \"Accepted\"\n",
    "    else:\n",
    "        print \"Denied as flag1 is \"+str(flag1)\n",
    "else:\n",
    "    print \"Denied as val lower than 20\"\n"
   ]
  },
  {
   "cell_type": "code",
   "execution_count": null,
   "metadata": {
    "collapsed": true
   },
   "outputs": [],
   "source": [
    "#while using multiple conditions remember to segment/split your problem space meaningfully\n",
    "#in the below example, the second condition is never going to be reached and is therefore, redundant\n",
    "\n",
    "if val>75:\n",
    "    print \"First condition\"\n",
    "elif val==25:\n",
    "    print \"Second condition\"\n",
    "else:\n",
    "    print \"Third condition\""
   ]
  },
  {
   "cell_type": "markdown",
   "metadata": {},
   "source": [
    "### Iterative Constructs"
   ]
  },
  {
   "cell_type": "markdown",
   "metadata": {},
   "source": [
    "#### For Loops"
   ]
  },
  {
   "cell_type": "code",
   "execution_count": null,
   "metadata": {
    "collapsed": false
   },
   "outputs": [],
   "source": [
    "#for loop (definite loop)\n",
    "    #fewer overheads to deal with\n",
    "    #fewer chances of user errors\n",
    "    #relatively inflexible\n",
    "    #faster in a lot of situations\n",
    "    #more memory intensive\n",
    "\n",
    "#example\n",
    "for i in range(1,11):\n",
    "    print i\n",
    "\n",
    "print \"-----------\"\n",
    "\n",
    "#another example\n",
    "a = [\"this\", \"is\", \"a\", \"list\"]\n",
    "\n",
    "for i in a:\n",
    "    print i\n",
    "    if len(i)==1:\n",
    "        break"
   ]
  },
  {
   "cell_type": "markdown",
   "metadata": {},
   "source": [
    "#### While Loops"
   ]
  },
  {
   "cell_type": "code",
   "execution_count": null,
   "metadata": {
    "collapsed": false
   },
   "outputs": [],
   "source": [
    "#while loop\n",
    "    #more overheads\n",
    "    #errors if you're not paying attention\n",
    "    #extreme flexibility\n",
    "    #slower\n",
    "    #less memory intensive\n",
    "    \n",
    "i=0\n",
    "while i<10:\n",
    "    i+=1\n",
    "    if i==6:\n",
    "        continue\n",
    "    else:\n",
    "        print i*i\n",
    "\n",
    "print \"-----------\"\n",
    "\n",
    "#another example\n",
    "num = 5\n",
    "num_c = num\n",
    "s=0\n",
    "\n",
    "while True:\n",
    "    s+=num\n",
    "    num-=1\n",
    "    if num==0:\n",
    "        break\n",
    "\n",
    "print \"sum of \"+str(num_c)+\" is \"+str(s)"
   ]
  },
  {
   "cell_type": "code",
   "execution_count": null,
   "metadata": {
    "collapsed": true
   },
   "outputs": [],
   "source": [
    "#this loop is designed to fail (why?)\n",
    "#remember to RESTART KERNEL and/or CLEAR OUTPUTS if you run this cell!\n",
    "\n",
    "i=1\n",
    "while i<=10:\n",
    "    if i==6:\n",
    "        continue\n",
    "    else:\n",
    "        print i*i\n",
    "    i += 1"
   ]
  },
  {
   "cell_type": "markdown",
   "metadata": {},
   "source": [
    "### User Inputs"
   ]
  },
  {
   "cell_type": "code",
   "execution_count": null,
   "metadata": {
    "collapsed": false
   },
   "outputs": [],
   "source": [
    "#sample code here\n",
    "\n",
    "#raw_input returns user entry as a string\n",
    "a = raw_input(\"Enter something: \")\n",
    "\n",
    "#input coerces the user entry to a number before returning it\n",
    "b = input(\"Enter a number: \")\n",
    "\n",
    "print a\n",
    "print b\n",
    "\n",
    "#please note - Python 3 onwards, there exists JUST 'input' ('input' in Py3 works like 'raw_input' in Py2)"
   ]
  },
  {
   "cell_type": "markdown",
   "metadata": {},
   "source": [
    "### Appendix"
   ]
  },
  {
   "cell_type": "code",
   "execution_count": null,
   "metadata": {
    "collapsed": false
   },
   "outputs": [],
   "source": [
    "#strings work like iterables\n",
    "a = \"helloooo\"\n",
    "print a[-6:-2:2]\n",
    "print \"-----------\"\n",
    "\n",
    "#you can even use them in loops\n",
    "for char in a:\n",
    "    print char\n",
    "print \"-----------\"\n",
    "\n",
    "#use the 'type' function to find the datatype of a variable\n",
    "print type(123)\n",
    "print type(\"hellooo\")\n",
    "print type([1,2,3,4])\n",
    "print \"-----------\"\n",
    "\n",
    "#the newline character at the end of a line in the print command can be\n",
    "#supressed (technically replaced by a \" \") by using a trailing comma\n",
    "print \"text 1\",\n",
    "print \"and text 2\",\n",
    "print \"are on the same line\"\n",
    "print \"-----------\"\n",
    "\n",
    "#types in python can be converted explicitly\n",
    "a = int(\"1234\")\n",
    "b = str(5678)\n",
    "c = list(range(1,11))\n",
    "d = tuple([1,2,3])\n",
    "\n",
    "print a, type(a)\n",
    "print b, type(b)\n",
    "print c, type(c)\n",
    "print d, type(d)\n",
    "print \"-----------\"\n",
    "\n",
    "#'for' can be used INSIDE A LIST! Yes, you heard that right! INSIDE A LIST!!\n",
    "lista = list(range(1,6))\n",
    "listb = [x*5 for x in lista]\n",
    "\n",
    "print listb"
   ]
  }
 ],
 "metadata": {
  "kernelspec": {
   "display_name": "Python [Root]",
   "language": "python",
   "name": "Python [Root]"
  },
  "language_info": {
   "codemirror_mode": {
    "name": "ipython",
    "version": 2
   },
   "file_extension": ".py",
   "mimetype": "text/x-python",
   "name": "python",
   "nbconvert_exporter": "python",
   "pygments_lexer": "ipython2",
   "version": "2.7.12"
  }
 },
 "nbformat": 4,
 "nbformat_minor": 0
}
