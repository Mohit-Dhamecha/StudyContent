{
 "cells": [
  {
   "cell_type": "markdown",
   "metadata": {},
   "source": [
    "<div style=\"display:block\">\n",
    "    <div style=\"width: 20%; display: inline-block; text-align: left;\">\n",
    "        <img src=\"http://upload.wikimedia.org/wikipedia/en/0/0c/Mu_Sigma_Logo.jpg\" style=\"height:75px; margin-left:0px\" />\n",
    "    </div>\n",
    "    <div style=\"width: 59%; display: inline-block\">\n",
    "        <h1  style=\"text-align: center\">Analysis in Python</h1>\n",
    "    </div>\n",
    "    <div style=\"width: 20%; text-align: right; display: inline-block;\">\n",
    "        <div style=\"width: 100%; text-align: left; display: inline-block;\">\n",
    "            <i>Created: </i>\n",
    "            <time datetime=\"2016-10-12\" pubdate>October, 2016</time>\n",
    "        </div>\n",
    "    </div>\n",
    "\n",
    "</div>"
   ]
  },
  {
   "cell_type": "markdown",
   "metadata": {},
   "source": [
    "There a set of packages that enable analysis, let's have a look into them:\n",
    "* Numpy: Numpy has functions that help us do numerical computing/ mathematical operations on **numpy arrays**. These arrays are are abstraction of lists\n",
    "* Pandas: Pandas is used for data handling and manipulation. It creates and uses a special data structure called **dataframe**,which is similar to R dataframes\n",
    "* Matplotlib: It has tools for visualizing the data\n",
    "* Scikit-Learn:Scikit-learn is a package for data mining and data analysis. It has classes/functions for implementing various machine learning algorithms"
   ]
  },
  {
   "cell_type": "markdown",
   "metadata": {},
   "source": [
    "## Numpy\n",
    "Numpy contains core libraries for Numerical Computing. Numpy provides a multi-dimensional array, along with functions/tools for working with these arrays. <br>\n",
    "Let's get started!"
   ]
  },
  {
   "cell_type": "code",
   "execution_count": 2,
   "metadata": {
    "collapsed": false
   },
   "outputs": [],
   "source": [
    "import numpy as np"
   ]
  },
  {
   "cell_type": "markdown",
   "metadata": {},
   "source": [
    "NumPy’s main object is the homogeneous multidimensional array. These are called **ndarrays**. They are abstraction of Python lists. So why use these arrays? Because lists are not meant for analysis! They have very efficient storage and retrieval mechanisms but that's all there's to it. When we need numerical power like vectorization, lists are not best suited, that's where arrays come in.<br>\n",
    "\n",
    "Lets start by creating arrays. The easiest form is to create it from lists"
   ]
  },
  {
   "cell_type": "code",
   "execution_count": 4,
   "metadata": {
    "collapsed": false
   },
   "outputs": [
    {
     "name": "stdout",
     "output_type": "stream",
     "text": [
      "['Harsha' 'Varun' 'Jatan']\n",
      "<type 'numpy.ndarray'>\n"
     ]
    }
   ],
   "source": [
    "a = np.array(['Harsha','Varun','Jatan'])\n",
    "print a\n",
    "print type(a)"
   ]
  },
  {
   "cell_type": "markdown",
   "metadata": {},
   "source": [
    "There are eeasier and quicker ways to create an array "
   ]
  },
  {
   "cell_type": "code",
   "execution_count": 12,
   "metadata": {
    "collapsed": false,
    "scrolled": true
   },
   "outputs": [
    {
     "name": "stdout",
     "output_type": "stream",
     "text": [
      "[1 3 5 7 9]\n",
      "\n",
      "\n",
      "[[ 0.  0.  0.  0.  0.]\n",
      " [ 0.  0.  0.  0.  0.]]\n",
      "\n",
      "\n",
      "[[ 1.  1.  1.  1.  1.]\n",
      " [ 1.  1.  1.  1.  1.]]\n",
      "\n",
      "\n",
      "[[ 1.  1.  1.  1.  1.]\n",
      " [ 1.  1.  1.  1.  1.]]\n"
     ]
    }
   ],
   "source": [
    "print np.arange(1,10,2) #Similar to range, but generates arrays instead\n",
    "print \"\\n\"\n",
    "print np.zeros((2,5)) # Produces an array of 0s of the desired shape\n",
    "print \"\\n\"\n",
    "print np.ones((2,5)) # Produces an array of 1s of the desired shape\n",
    "print \"\\n\"\n",
    "print np.empty((2,5)) # Produces an empty array of the desired shape"
   ]
  },
  {
   "cell_type": "markdown",
   "metadata": {},
   "source": [
    "We have used used something called **shape** earlier. What exactly is it? Shape indicates the dimensions of the array. Imagine an array as an matrix. We define the matrix by its dimensions rows\\*columns, and if scale this to ndimensions, we get an ndarray. <br>\n",
    "\n",
    "Now let's look at the properties for an ndarray."
   ]
  },
  {
   "cell_type": "code",
   "execution_count": 15,
   "metadata": {
    "collapsed": false
   },
   "outputs": [
    {
     "name": "stdout",
     "output_type": "stream",
     "text": [
      "(3L,)\n",
      "\n",
      "\n",
      "1\n",
      "\n",
      "\n",
      "3\n",
      "\n",
      "\n",
      "|S6\n",
      "\n",
      "\n",
      "6\n"
     ]
    }
   ],
   "source": [
    "print a.shape\n",
    "print \"\\n\"\n",
    "print a.ndim\n",
    "print \"\\n\"\n",
    "print a.size\n",
    "print \"\\n\"\n",
    "print a.dtype\n",
    "print \"\\n\"\n",
    "print a.itemsize"
   ]
  },
  {
   "cell_type": "markdown",
   "metadata": {},
   "source": [
    "**Indexing an array** Let's start off by indexing a 1d array"
   ]
  },
  {
   "cell_type": "code",
   "execution_count": 16,
   "metadata": {
    "collapsed": false
   },
   "outputs": [
    {
     "name": "stdout",
     "output_type": "stream",
     "text": [
      "1\n",
      "5\n"
     ]
    }
   ],
   "source": [
    "a = np.array ([1, 1, 2, 3, 5, 8, 13, 21])\n",
    "print(a[0])\n",
    "print(a[4])"
   ]
  },
  {
   "cell_type": "markdown",
   "metadata": {},
   "source": [
    "Now, let's try the same for multi-dimensional arrays. Please note how we define ndarrays. A 1d array can be imagined and instantiated using a simple list and similarly, using the same analogy, an ndarray is a list of lists"
   ]
  },
  {
   "cell_type": "code",
   "execution_count": 17,
   "metadata": {
    "collapsed": false
   },
   "outputs": [
    {
     "name": "stdout",
     "output_type": "stream",
     "text": [
      "(3L, 2L, 2L)\n",
      "121\n",
      "222\n"
     ]
    }
   ],
   "source": [
    "b = np.array([ [[111, 112],  [121, 122]],[[211, 212],  [221, 222]],[[311, 312],  [321, 322]]])\n",
    "\n",
    "print b.shape\n",
    "\n",
    "print(b[0][1][0])\n",
    "\n",
    "print(b[1][1][1])"
   ]
  },
  {
   "cell_type": "markdown",
   "metadata": {},
   "source": [
    "Arrays can also be indexed using arrays! "
   ]
  },
  {
   "cell_type": "code",
   "execution_count": 26,
   "metadata": {
    "collapsed": false
   },
   "outputs": [
    {
     "name": "stdout",
     "output_type": "stream",
     "text": [
      "[ 4  4 16 81 36]\n",
      "[[ 16  25]\n",
      " [100  64]]\n"
     ]
    }
   ],
   "source": [
    "a = np.array([ 1, 4, 9, 16, 25, 36, 49, 64, 81, 100, 121, 144])\n",
    "i = np.array( [ 1, 1, 3, 8, 5] ) \n",
    "print a[i]\n",
    "i = np.array([[3,4], [9,7 ]])\n",
    "print a[i]"
   ]
  },
  {
   "cell_type": "markdown",
   "metadata": {},
   "source": [
    "We can also use slicing operations on the arrays to get a \"view\" of the original array. General sytax for slicing is array[start:stop:step]. Let's look at an example below using the same array that we created earlier"
   ]
  },
  {
   "cell_type": "code",
   "execution_count": 23,
   "metadata": {
    "collapsed": false
   },
   "outputs": [
    {
     "name": "stdout",
     "output_type": "stream",
     "text": [
      "[ 9 16 25]\n",
      "[[[211 212]\n",
      "  [221 222]]]\n"
     ]
    }
   ],
   "source": [
    "print a[2:5]\n",
    "print b[1:2,0:2,0:2]"
   ]
  },
  {
   "cell_type": "markdown",
   "metadata": {},
   "source": [
    "**Note**: indexing on lists and tuples create new objects, a slicing operation on an array creates a view on the original array. So we get an another possibility to access the array, or better a part of the array. From this follows that if we modify a view, the original array will be modified as well. We have to the **copy** function if we want to create a copy of the original array"
   ]
  },
  {
   "cell_type": "code",
   "execution_count": 28,
   "metadata": {
    "collapsed": false
   },
   "outputs": [
    {
     "name": "stdout",
     "output_type": "stream",
     "text": [
      "[  1   4   9  16  25  36  49  64  81 100 121 144]\n",
      "[  1   4   1  16  25  36  49  64  81 100 121 144]\n",
      "\n",
      "\n",
      "[  1   4   9  16  25  36  49  64  81 100 121 144]\n"
     ]
    }
   ],
   "source": [
    "c =  a[2:5]\n",
    "print a\n",
    "c[0] = 1\n",
    "print a\n",
    "print\"\\n\"\n",
    "a = np.array([ 1, 4, 9, 16, 25, 36, 49, 64, 81, 100, 121, 144])\n",
    "c =  a[2:5].copy()\n",
    "c[0] = 1\n",
    "print a"
   ]
  },
  {
   "cell_type": "markdown",
   "metadata": {},
   "source": [
    "Now let us look into computations using arrays. We can add, subtract and multiply arrays. These operations will be applied element wise "
   ]
  },
  {
   "cell_type": "code",
   "execution_count": 24,
   "metadata": {
    "collapsed": false
   },
   "outputs": [
    {
     "name": "stdout",
     "output_type": "stream",
     "text": [
      "[ 574  543  507 9129 2380]\n",
      "[-334  457  497 8463 2288]\n",
      "[ 574  543    0 9129    0]\n"
     ]
    }
   ],
   "source": [
    "a = np.array( [ 120,500,502,8796,2334] )\n",
    "b = np.array( [ 454,43,5,333,46] )\n",
    "print a+b\n",
    "print a-b\n",
    "\n",
    "c = np.array( [ 1, 1, 0, 1,0] )\n",
    "print (a+b)*c"
   ]
  },
  {
   "cell_type": "markdown",
   "metadata": {
    "collapsed": true
   },
   "source": [
    "Till now we have done additions and multiplication of the same shaped arrays. What if we do for arrays of different dimensions?"
   ]
  },
  {
   "cell_type": "code",
   "execution_count": 10,
   "metadata": {
    "collapsed": false
   },
   "outputs": [
    {
     "name": "stdout",
     "output_type": "stream",
     "text": [
      "[[ 574  954  956 9250]\n",
      " [ 163  543  545 8839]\n",
      " [ 125  505  507 8801]]\n",
      "[[  54480  227000  227908 3993384]\n",
      " [   5160   21500   21586  378228]\n",
      " [    600    2500    2510   43980]]\n"
     ]
    }
   ],
   "source": [
    "a = np.array( [ 120,500,502,8796] )\n",
    "b = np.array( [ [454],[43],[5]] )\n",
    "print a+b\n",
    "print a*b"
   ]
  },
  {
   "cell_type": "markdown",
   "metadata": {},
   "source": [
    "The array a and b got replicated across the dimensions to form a 4x3 array and then the operation happened. This is called **broadcasting**. Note that broadcasting only happens only in a dimension when the size of one of them is 1.<br>\n",
    "For example you can broadcast a 3\\*1 and and 1\\*2 to get a 3\\*2 array, but we can't broadcast when there are a 3\\*1 and 2\\*2 array \n"
   ]
  },
  {
   "cell_type": "code",
   "execution_count": 4,
   "metadata": {
    "collapsed": false
   },
   "outputs": [
    {
     "name": "stdout",
     "output_type": "stream",
     "text": [
      "[[574 954 956]\n",
      " [163 543 545]]\n",
      "[[ 54480 227000 227908]\n",
      " [  5160  21500  21586]]\n"
     ]
    },
    {
     "ename": "ValueError",
     "evalue": "operands could not be broadcast together with shapes (4,) (2,2) ",
     "output_type": "error",
     "traceback": [
      "\u001b[1;31m---------------------------------------------------------------------------\u001b[0m",
      "\u001b[1;31mValueError\u001b[0m                                Traceback (most recent call last)",
      "\u001b[1;32m<ipython-input-4-daa529e2ef46>\u001b[0m in \u001b[0;36m<module>\u001b[1;34m()\u001b[0m\n\u001b[0;32m      7\u001b[0m \u001b[0mb\u001b[0m \u001b[1;33m=\u001b[0m \u001b[0mnp\u001b[0m\u001b[1;33m.\u001b[0m\u001b[0marray\u001b[0m\u001b[1;33m(\u001b[0m \u001b[1;33m[\u001b[0m \u001b[1;33m[\u001b[0m\u001b[1;36m454\u001b[0m\u001b[1;33m,\u001b[0m\u001b[1;36m1\u001b[0m\u001b[1;33m]\u001b[0m\u001b[1;33m,\u001b[0m\u001b[1;33m[\u001b[0m\u001b[1;36m43\u001b[0m\u001b[1;33m,\u001b[0m\u001b[1;36m2\u001b[0m\u001b[1;33m]\u001b[0m\u001b[1;33m]\u001b[0m \u001b[1;33m)\u001b[0m \u001b[1;31m# 2*2 array\u001b[0m\u001b[1;33m\u001b[0m\u001b[0m\n\u001b[0;32m      8\u001b[0m \u001b[1;33m\u001b[0m\u001b[0m\n\u001b[1;32m----> 9\u001b[1;33m \u001b[1;32mprint\u001b[0m \u001b[0ma\u001b[0m\u001b[1;33m*\u001b[0m\u001b[0mb\u001b[0m\u001b[1;33m\u001b[0m\u001b[0m\n\u001b[0m",
      "\u001b[1;31mValueError\u001b[0m: operands could not be broadcast together with shapes (4,) (2,2) "
     ]
    }
   ],
   "source": [
    "a = np.array( [ 120,500,502] ) #3, array\n",
    "b = np.array( [ [454],[43]] ) # 2*1 array\n",
    "print a+b\n",
    "print a*b\n",
    "\n",
    "a = np.array( [ 120,500,502,8796] ) #3, array\n",
    "b = np.array( [ [454,1],[43,2]] ) # 2*2 array\n"
   ]
  },
  {
   "cell_type": "markdown",
   "metadata": {},
   "source": [
    "Now let's see what all transformations we can perform on an array"
   ]
  },
  {
   "cell_type": "code",
   "execution_count": 38,
   "metadata": {
    "collapsed": false
   },
   "outputs": [
    {
     "name": "stdout",
     "output_type": "stream",
     "text": [
      "[  10   40  100  120  500  502 1202 8796]\n",
      "[[  10   40]\n",
      " [ 100  120]\n",
      " [ 500  502]\n",
      " [1202 8796]]\n",
      "[[  10   40]\n",
      " [ 100  120]\n",
      " [ 500  502]\n",
      " [1202 8796]\n",
      " [   0    0]]\n",
      "[  10   40  100  120  500  502 1202 8796    0    0]\n",
      "[[1 2]\n",
      " [3 4]\n",
      " [5 6]]\n",
      "[[1 2 5]\n",
      " [3 4 6]]\n",
      "[0 1 2 3 4 5 6 7 8 9]\n",
      "[1 1 2 3 4 5 6 7 8 8]\n"
     ]
    }
   ],
   "source": [
    "a = np.array( [ 120,500,502,8796,100,10,40,1202] )\n",
    "a.sort() #Sorts the array. Sorting is inplace\n",
    "print a\n",
    "\n",
    "print a.reshape(4,2) #Change the dimensions. Only works when the number of elements match. Returns a new array, not inplace\n",
    "\n",
    "a.resize(5,2) #Changes the shape, but inplace. Doesn't require the elements to match\n",
    "print a\n",
    "\n",
    "a = a.flatten() #Collapses the array into 1d\n",
    "print a\n",
    "\n",
    "b = np.array([[1, 2], [3, 4]])\n",
    "c = np.array([[5, 6]])\n",
    "print np.concatenate((b, c), axis=0) #Adds new row, returns a new array\n",
    "print np.concatenate((b, c.T), axis=1) #Adds new columns, returns a new array\n",
    "\n",
    "a = np.arange(10)\n",
    "print a\n",
    "print np.clip(a,1,8) # all the values >8 and <1 will be replaced with 8 and 1 respectively"
   ]
  },
  {
   "cell_type": "markdown",
   "metadata": {},
   "source": [
    "We can also loop through arrays just like lists. Note that for multidimensional arrays, iteration proceeds over the first axis such that each loop returns a subsection of the array"
   ]
  },
  {
   "cell_type": "code",
   "execution_count": 39,
   "metadata": {
    "collapsed": false
   },
   "outputs": [
    {
     "name": "stdout",
     "output_type": "stream",
     "text": [
      "0\n",
      "1\n",
      "2\n",
      "3\n",
      "4\n",
      "5\n",
      "6\n",
      "7\n",
      "8\n",
      "9\n",
      "\n",
      "\n",
      "2\n",
      "12\n",
      "30\n"
     ]
    }
   ],
   "source": [
    "for i in a:\n",
    "    print i\n",
    "print \"\\n\"\n",
    "a = np.array([[1, 2], [3, 4], [5, 6]])\n",
    "for (x,y) in a:\n",
    "    print x*y"
   ]
  },
  {
   "cell_type": "markdown",
   "metadata": {},
   "source": [
    "Arrays of equal dimensions can also be compared to each other"
   ]
  },
  {
   "cell_type": "code",
   "execution_count": 41,
   "metadata": {
    "collapsed": false
   },
   "outputs": [
    {
     "name": "stdout",
     "output_type": "stream",
     "text": [
      "[ True False False]\n",
      "\n",
      "\n",
      "True\n",
      "\n",
      "\n",
      "False\n",
      "\n",
      "\n",
      "[ 1.  3.  2.]\n",
      "\n",
      "\n",
      "[ True False False]\n",
      "\n",
      "\n",
      "[False  True  True]\n",
      "\n",
      "\n"
     ]
    }
   ],
   "source": [
    "a = np.array([1, 3, 0], float)\n",
    "b = np.array([0, 3, 2], float)\n",
    "print a > b # Returns an array\n",
    "print \"\\n\"\n",
    "print np.any(a>b) # Returns true if any element of a > b. Element wise comparision\n",
    "print \"\\n\"\n",
    "print np.all(a>b) # Returns true if all elements of a > b. Element wise comparision\n",
    "print \"\\n\"\n",
    "print np.where(a>b,a,b) #Returns elements, either from a or b, depending on condition\n",
    "print \"\\n\"\n",
    "a[0] = np.nan\n",
    "print np.isnan(a) #Test element-wise for NaN and return result as a boolean array\n",
    "print \"\\n\"\n",
    "print np.isfinite(a) #Test element-wise if it is finite and return result as a boolean array\n",
    "print \"\\n\""
   ]
  },
  {
   "cell_type": "markdown",
   "metadata": {},
   "source": [
    "Now let's do some basic univariate analysis on our array. We'll try computing the summary statistics"
   ]
  },
  {
   "cell_type": "code",
   "execution_count": 47,
   "metadata": {
    "collapsed": false
   },
   "outputs": [
    {
     "name": "stdout",
     "output_type": "stream",
     "text": [
      "1408.75\n",
      "\n",
      "\n",
      "7933238.9375\n",
      "\n",
      "\n",
      "2816.60059957\n",
      "\n",
      "\n",
      "310.0\n",
      "\n",
      "\n",
      "[[  9.06655879e+06  -3.49857143e+02]\n",
      " [ -3.49857143e+02   6.00000000e+00]]\n",
      "\n",
      "\n",
      "[[ 1.         -0.04743445]\n",
      " [-0.04743445  1.        ]]\n"
     ]
    }
   ],
   "source": [
    "a = np.array( [ 120,500,502,8796,100,10,40,1202] )\n",
    "print a.mean()\n",
    "print \"\\n\"\n",
    "print a.var()\n",
    "print \"\\n\"\n",
    "print a.std()\n",
    "print \"\\n\"\n",
    "print np.median(a)\n",
    "print \"\\n\"\n",
    "b = np.arange(8)\n",
    "print np.cov(a,b)\n",
    "print \"\\n\"\n",
    "print np.corrcoef(a,b)"
   ]
  }
 ],
 "metadata": {
  "anaconda-cloud": {},
  "kernelspec": {
   "display_name": "Python [Root]",
   "language": "python",
   "name": "Python [Root]"
  },
  "language_info": {
   "codemirror_mode": {
    "name": "ipython",
    "version": 2
   },
   "file_extension": ".py",
   "mimetype": "text/x-python",
   "name": "python",
   "nbconvert_exporter": "python",
   "pygments_lexer": "ipython2",
   "version": "2.7.12"
  }
 },
 "nbformat": 4,
 "nbformat_minor": 0
}
